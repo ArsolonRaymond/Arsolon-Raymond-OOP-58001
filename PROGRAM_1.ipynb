{
  "nbformat": 4,
  "nbformat_minor": 0,
  "metadata": {
    "colab": {
      "name": "PROGRAM 1.ipynb",
      "provenance": [],
      "authorship_tag": "ABX9TyO/Jg9CPUbwMgxDCI4fivV9",
      "include_colab_link": true
    },
    "kernelspec": {
      "name": "python3",
      "display_name": "Python 3"
    },
    "language_info": {
      "name": "python"
    }
  },
  "cells": [
    {
      "cell_type": "markdown",
      "metadata": {
        "id": "view-in-github",
        "colab_type": "text"
      },
      "source": [
        "<a href=\"https://colab.research.google.com/github/ArsolonRaymond/Arsolon-Raymond-OOP-58001/blob/main/PROGRAM_1.ipynb\" target=\"_parent\"><img src=\"https://colab.research.google.com/assets/colab-badge.svg\" alt=\"Open In Colab\"/></a>"
      ]
    },
    {
      "cell_type": "code",
      "execution_count": 22,
      "metadata": {
        "colab": {
          "base_uri": "https://localhost:8080/"
        },
        "id": "8ZeDtzMdYpAX",
        "outputId": "3aeb67b7-296d-4c96-e787-dc8770b88a34"
      },
      "outputs": [
        {
          "output_type": "stream",
          "name": "stdout",
          "text": [
            "Enter the temperature in Celsius: 5\n",
            "278.15 Kelvin\n",
            "41.0 Fahrenheit\n",
            "Enter the temperature in Farenheit: 3\n",
            "-16.11111111111111 Celsius\n",
            "Enter the temperature in Kelvin: 6\n",
            "-267.15 Celsius\n"
          ]
        }
      ],
      "source": [
        "def main():\n",
        "\n",
        "  \n",
        "\n",
        " class TemperatureConversion:\n",
        "\n",
        "  def __init__(self, temp=1):\n",
        "\n",
        "   self._temp = temp\n",
        "\n",
        " class CelsiusToFahrenheit(TemperatureConversion):\n",
        "\n",
        "  def conversion(self):\n",
        "\n",
        "   return (self._temp * 9) / 5 + 32\n",
        "\n",
        " class CelsiusToKelvin(TemperatureConversion):\n",
        "\n",
        "  def conversion(self):\n",
        "\n",
        "   return self._temp + 273.15\n",
        "\n",
        " class FahrenheitToCelsius(TemperatureConversion):\n",
        "\n",
        "  def conversion(self):\n",
        "\n",
        "   return (self._temp - 32) * 5 / 9\n",
        "\n",
        " class KelvinToCelsius(TemperatureConversion):\n",
        "\n",
        "  def conversion(self):\n",
        "\n",
        "   return (self._temp - 273.15) \n",
        "\n",
        " tempInCelsius = float(input(\"Enter the temperature in Celsius: \"))\n",
        "\n",
        " convert = CelsiusToKelvin(tempInCelsius)\n",
        "\n",
        " print(str(convert.conversion()) + \" Kelvin\")\n",
        "\n",
        " convert = CelsiusToFahrenheit(tempInCelsius)\n",
        "\n",
        " print(str(convert.conversion()) + \" Fahrenheit\")\n",
        "\n",
        " tempInCelsius = float(input(\"Enter the temperature in Farenheit: \"))\n",
        "\n",
        " convert = FahrenheitToCelsius(tempInCelsius)\n",
        "\n",
        " print(str(convert.conversion()) + \" Celsius\")\n",
        "\n",
        " tempInCelsius = float(input(\"Enter the temperature in Kelvin: \"))\n",
        "\n",
        " convert = KelvinToCelsius(tempInCelsius)\n",
        " \n",
        " print(str(convert.conversion()) + \" Celsius\")\n",
        "\n",
        "main()"
      ]
    }
  ]
}