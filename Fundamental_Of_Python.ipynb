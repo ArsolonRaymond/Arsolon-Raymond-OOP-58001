{
  "nbformat": 4,
  "nbformat_minor": 0,
  "metadata": {
    "colab": {
      "name": "Fundamental Of Python.ipynb",
      "provenance": [],
      "authorship_tag": "ABX9TyMdq620XplxR6ORCUYZxQwm",
      "include_colab_link": true
    },
    "kernelspec": {
      "name": "python3",
      "display_name": "Python 3"
    },
    "language_info": {
      "name": "python"
    }
  },
  "cells": [
    {
      "cell_type": "markdown",
      "metadata": {
        "id": "view-in-github",
        "colab_type": "text"
      },
      "source": [
        "<a href=\"https://colab.research.google.com/github/ArsolonRaymond/Arsolon-Raymond-OOP-58001/blob/main/Fundamental_Of_Python.ipynb\" target=\"_parent\"><img src=\"https://colab.research.google.com/assets/colab-badge.svg\" alt=\"Open In Colab\"/></a>"
      ]
    },
    {
      "cell_type": "markdown",
      "source": [
        "# Fundamentals Of Python"
      ],
      "metadata": {
        "id": "4TwMEFDVarOJ"
      }
    },
    {
      "cell_type": "markdown",
      "source": [
        "Python Variables"
      ],
      "metadata": {
        "id": "Jtq8OwC0aty6"
      }
    },
    {
      "cell_type": "code",
      "source": [
        "x = float (1)\n",
        "a, b = 0, -1\n",
        "a, b, c = \"Katrina\", \"Rue\", \"Nate\"\n",
        "\n",
        "print('This a sample')\n",
        "print(a)\n",
        "print(c)"
      ],
      "metadata": {
        "colab": {
          "base_uri": "https://localhost:8080/"
        },
        "id": "GoYReTyEauVH",
        "outputId": "092a8257-dd92-4c80-ae41-3f584529f9d3"
      },
      "execution_count": 1,
      "outputs": [
        {
          "output_type": "stream",
          "name": "stdout",
          "text": [
            "This a sample\n",
            "Katrina\n",
            "Nate\n"
          ]
        }
      ]
    },
    {
      "cell_type": "markdown",
      "source": [
        "Casting"
      ],
      "metadata": {
        "id": "2x_mgyxOawQX"
      }
    },
    {
      "cell_type": "code",
      "source": [
        "print(x)"
      ],
      "metadata": {
        "colab": {
          "base_uri": "https://localhost:8080/"
        },
        "id": "KKrRX7l4axRi",
        "outputId": "b18cced4-f435-4ebb-87a6-f201554e9d46"
      },
      "execution_count": 2,
      "outputs": [
        {
          "output_type": "stream",
          "name": "stdout",
          "text": [
            "1.0\n"
          ]
        }
      ]
    },
    {
      "cell_type": "markdown",
      "source": [
        "Type()Function"
      ],
      "metadata": {
        "id": "1H1-JxmUayuo"
      }
    },
    {
      "cell_type": "code",
      "source": [
        "y = \"Romblon\"\n",
        "\n",
        "print(type(y))\n",
        "print(type(x))"
      ],
      "metadata": {
        "colab": {
          "base_uri": "https://localhost:8080/"
        },
        "id": "Q9MYdHOOa0Fm",
        "outputId": "139f6423-d22b-44af-e6cd-05e5039dd3df"
      },
      "execution_count": 3,
      "outputs": [
        {
          "output_type": "stream",
          "name": "stdout",
          "text": [
            "<class 'str'>\n",
            "<class 'float'>\n"
          ]
        }
      ]
    },
    {
      "cell_type": "markdown",
      "source": [
        "Double quotes and Single quotes\n"
      ],
      "metadata": {
        "id": "txGljQvGa1oU"
      }
    },
    {
      "cell_type": "code",
      "source": [
        "#h = \"Baby, Goodnight\"\n",
        "h = 'Baby, Goodnight'\n",
        "v = 1\n",
        "V = 3\n",
        "\n",
        "print(h)\n",
        "print(v)\n",
        "print(v+1)"
      ],
      "metadata": {
        "colab": {
          "base_uri": "https://localhost:8080/"
        },
        "id": "XQASPHpxa1yZ",
        "outputId": "3a9581e7-b220-42ec-8829-f7d62f9f9c1e"
      },
      "execution_count": 4,
      "outputs": [
        {
          "output_type": "stream",
          "name": "stdout",
          "text": [
            "Baby, Goodnight\n",
            "1\n",
            "2\n"
          ]
        }
      ]
    },
    {
      "cell_type": "markdown",
      "source": [
        "Multiple Variables"
      ],
      "metadata": {
        "id": "Q4i0p8_na65R"
      }
    },
    {
      "cell_type": "code",
      "source": [
        "x, y, z = \"I\", \"Miss\", 'You'\n",
        "\n",
        "print(x)\n",
        "print(y)\n",
        "print(z)\n",
        "print(x, y, z)"
      ],
      "metadata": {
        "colab": {
          "base_uri": "https://localhost:8080/"
        },
        "id": "JpSqE5I2a8bm",
        "outputId": "65c9e671-a7fc-4d65-8eef-1493b2f01df1"
      },
      "execution_count": 5,
      "outputs": [
        {
          "output_type": "stream",
          "name": "stdout",
          "text": [
            "I\n",
            "Miss\n",
            "You\n",
            "I Miss You\n"
          ]
        }
      ]
    },
    {
      "cell_type": "markdown",
      "source": [
        "One Value to Multiple Variables"
      ],
      "metadata": {
        "id": "2yZJm647a9ns"
      }
    },
    {
      "cell_type": "code",
      "source": [
        "x = y = z = \"Hello\"\n",
        "print(x, y, z)\n",
        "print(x)\n",
        "print(y)\n",
        "print(z)"
      ],
      "metadata": {
        "colab": {
          "base_uri": "https://localhost:8080/"
        },
        "id": "t_KZkBnwa_Qb",
        "outputId": "fc35afd9-1497-46ff-96a2-33e7cb96a8de"
      },
      "execution_count": 7,
      "outputs": [
        {
          "output_type": "stream",
          "name": "stdout",
          "text": [
            "Hello Hello Hello\n",
            "Hello\n",
            "Hello\n",
            "Hello\n"
          ]
        }
      ]
    },
    {
      "cell_type": "markdown",
      "source": [
        "Output Variables"
      ],
      "metadata": {
        "id": "k7vxczjwbAPC"
      }
    },
    {
      "cell_type": "code",
      "source": [
        "x = \"Python\"\n",
        "y = \"I love\"\n",
        "\n",
        "print(\"I love \" + x)\n",
        "print(y + \" \" + x)"
      ],
      "metadata": {
        "colab": {
          "base_uri": "https://localhost:8080/"
        },
        "id": "2H284PILbBOc",
        "outputId": "6a8c4bdb-f9c3-44af-9423-f44f0eebca17"
      },
      "execution_count": 6,
      "outputs": [
        {
          "output_type": "stream",
          "name": "stdout",
          "text": [
            "I love Python\n",
            "I love Python\n"
          ]
        }
      ]
    },
    {
      "cell_type": "markdown",
      "source": [
        "\n",
        "Arithmetic Operations"
      ],
      "metadata": {
        "id": "Qpz3-A8wbDQx"
      }
    },
    {
      "cell_type": "code",
      "source": [
        "m = 5\n",
        "o = 2\n",
        "n = 7\n",
        "\n",
        "print(m+n)\n",
        "print(m-n)\n",
        "print(o*n)\n",
        "print(int(m/o))\n",
        "print(5/m)\n",
        "print(5%m)\n",
        "print(5//m)\n",
        "print(5**2)"
      ],
      "metadata": {
        "colab": {
          "base_uri": "https://localhost:8080/"
        },
        "id": "rsJfKPYabFvI",
        "outputId": "307174de-35c0-4335-d2b7-951a7f799adf"
      },
      "execution_count": 8,
      "outputs": [
        {
          "output_type": "stream",
          "name": "stdout",
          "text": [
            "12\n",
            "-2\n",
            "14\n",
            "2\n",
            "1.0\n",
            "0\n",
            "1\n",
            "25\n"
          ]
        }
      ]
    },
    {
      "cell_type": "markdown",
      "source": [
        "Assignment Operators"
      ],
      "metadata": {
        "id": "SywcKJ1EbHPR"
      }
    },
    {
      "cell_type": "code",
      "source": [
        "k = 2\n",
        "l=3\n",
        "k+=3 #same as k=k+3\n",
        "\n",
        "print(k)\n",
        "\n",
        "print(l>>1)"
      ],
      "metadata": {
        "colab": {
          "base_uri": "https://localhost:8080/"
        },
        "id": "jwq3Aug7bIqJ",
        "outputId": "fac772a3-03ce-4e2d-bd98-30a634105426"
      },
      "execution_count": 9,
      "outputs": [
        {
          "output_type": "stream",
          "name": "stdout",
          "text": [
            "5\n",
            "1\n"
          ]
        }
      ]
    },
    {
      "cell_type": "markdown",
      "source": [
        "Boolean Operators"
      ],
      "metadata": {
        "id": "FOKPxa96bKAk"
      }
    },
    {
      "cell_type": "code",
      "source": [
        "k=2\n",
        "l=3\n",
        "print(k>>2)#shift right twice \n",
        "print(k<<2)#shift left twice"
      ],
      "metadata": {
        "colab": {
          "base_uri": "https://localhost:8080/"
        },
        "id": "uuHHmLaZbLPC",
        "outputId": "610d0027-2d0c-4771-e2ae-4377c201ce8e"
      },
      "execution_count": 10,
      "outputs": [
        {
          "output_type": "stream",
          "name": "stdout",
          "text": [
            "0\n",
            "8\n"
          ]
        }
      ]
    },
    {
      "cell_type": "markdown",
      "source": [
        "Relational Operators"
      ],
      "metadata": {
        "id": "r2ZTAFIVbMtP"
      }
    },
    {
      "cell_type": "code",
      "source": [
        "t=1\n",
        "v=2\n",
        "\n",
        "print(t>v)\n",
        "print(v==t)"
      ],
      "metadata": {
        "colab": {
          "base_uri": "https://localhost:8080/"
        },
        "id": "BFkVrCXPbPCO",
        "outputId": "2f7cd289-54fb-47bc-db9d-f2c0080abd63"
      },
      "execution_count": 11,
      "outputs": [
        {
          "output_type": "stream",
          "name": "stdout",
          "text": [
            "False\n",
            "False\n"
          ]
        }
      ]
    },
    {
      "cell_type": "markdown",
      "source": [
        "Logical Operators"
      ],
      "metadata": {
        "id": "m_MTmK-EbQic"
      }
    },
    {
      "cell_type": "code",
      "source": [
        "print(v<t and t==t)\n",
        "print(v<t or t==v)\n",
        "print(not (v<t or t==v))"
      ],
      "metadata": {
        "colab": {
          "base_uri": "https://localhost:8080/"
        },
        "id": "GERdgXLSbUb9",
        "outputId": "9eefcf1e-75f4-4207-fb5c-70c0efa3c5f5"
      },
      "execution_count": 12,
      "outputs": [
        {
          "output_type": "stream",
          "name": "stdout",
          "text": [
            "False\n",
            "False\n",
            "True\n"
          ]
        }
      ]
    },
    {
      "cell_type": "markdown",
      "source": [
        "Identity Operators"
      ],
      "metadata": {
        "id": "jcG6VNpMbWBf"
      }
    },
    {
      "cell_type": "code",
      "source": [
        "print(v is k)\n",
        "print(v is not k)"
      ],
      "metadata": {
        "colab": {
          "base_uri": "https://localhost:8080/"
        },
        "id": "fr1F31H7bWLe",
        "outputId": "ae25dab1-bc73-4336-a691-7e2e7a8ee164"
      },
      "execution_count": 13,
      "outputs": [
        {
          "output_type": "stream",
          "name": "stdout",
          "text": [
            "True\n",
            "False\n"
          ]
        }
      ]
    }
  ]
}