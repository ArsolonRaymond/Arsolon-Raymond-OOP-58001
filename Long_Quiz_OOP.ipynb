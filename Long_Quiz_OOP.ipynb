{
  "nbformat": 4,
  "nbformat_minor": 0,
  "metadata": {
    "colab": {
      "name": "Long_Quiz_OOP.ipynb",
      "provenance": [],
      "authorship_tag": "ABX9TyPBkDPy8YaExKYQh7ubcE58",
      "include_colab_link": true
    },
    "kernelspec": {
      "name": "python3",
      "display_name": "Python 3"
    },
    "language_info": {
      "name": "python"
    }
  },
  "cells": [
    {
      "cell_type": "markdown",
      "metadata": {
        "id": "view-in-github",
        "colab_type": "text"
      },
      "source": [
        "<a href=\"https://colab.research.google.com/github/ArsolonRaymond/Arsolon-Raymond-OOP-58001/blob/main/Long_Quiz_OOP.ipynb\" target=\"_parent\"><img src=\"https://colab.research.google.com/assets/colab-badge.svg\" alt=\"Open In Colab\"/></a>"
      ]
    },
    {
      "cell_type": "markdown",
      "source": [
        "# LONG QUIZ in OOP"
      ],
      "metadata": {
        "id": "R5RKlnotaw-U"
      }
    },
    {
      "cell_type": "markdown",
      "source": [
        "\n",
        "1. Write a Python program that asks the user to enter the radius of a circle and solve its area and perimeter.\n",
        "2. Create a class name Circle allowing you to build a circle with radius and pi attributes.\n",
        "3. Create a method Display() the perimeter and area using an instantiation of a class.\n",
        "4. Create a Perimeter() method to calculate the perimeter of the circle and an Area() method to calculate the area of ​​the circle."
      ],
      "metadata": {
        "id": "8TshJVVtjp-9"
      }
    },
    {
      "cell_type": "code",
      "source": [
        "#inputing the variables \n",
        "pi = 3.14\n",
        "Earth = Circle (input())\n",
        "Earth.display() \n",
        "\n",
        "class Circle(): # Creating a class name Circle allowing the program to build a circle with radius and pi attributes.\n",
        "  def __init__ (self, radius): # the program will asks the user to enter the radius of a circle and solve its area and perimeter.\n",
        "    self.radius = int (radius)\n",
        "\n",
        "  def Perimeter (self):\n",
        "    return 2 * pi * self.radius\n",
        "  \n",
        "  def Area (self):\n",
        "    return pi * (self.radius ** 2)\n",
        "\n",
        "  def display (self):#creating a method Display() the perimeter and area using an instantiation of a class. \n",
        "    print (\"The Earth's perimeter is\", self.Perimeter())\n",
        "    print (\"The Earth's surface area is\", self.Area()) \n",
        " # A Perimeter() method to calculate the perimeter of the circle and an Area() method to calculate the area of ​​the circle."
      ],
      "metadata": {
        "colab": {
          "base_uri": "https://localhost:8080/"
        },
        "id": "B999Fcq3jqwl",
        "outputId": "3297bce1-eff7-4e1f-ad6b-e5b130b22b8c"
      },
      "execution_count": 21,
      "outputs": [
        {
          "output_type": "stream",
          "name": "stdout",
          "text": [
            "5\n",
            "The Earth's perimeter is 31.400000000000002\n",
            "The Earth's surface area is 78.5\n"
          ]
        }
      ]
    }
  ]
}