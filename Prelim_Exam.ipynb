{
  "nbformat": 4,
  "nbformat_minor": 0,
  "metadata": {
    "colab": {
      "name": "Prelim Exam.ipynb",
      "provenance": [],
      "authorship_tag": "ABX9TyPy6MvalEbc0VaM82RBmMQG",
      "include_colab_link": true
    },
    "kernelspec": {
      "name": "python3",
      "display_name": "Python 3"
    },
    "language_info": {
      "name": "python"
    }
  },
  "cells": [
    {
      "cell_type": "markdown",
      "metadata": {
        "id": "view-in-github",
        "colab_type": "text"
      },
      "source": [
        "<a href=\"https://colab.research.google.com/github/ArsolonRaymond/Arsolon-Raymond-OOP-58001/blob/main/Prelim_Exam.ipynb\" target=\"_parent\"><img src=\"https://colab.research.google.com/assets/colab-badge.svg\" alt=\"Open In Colab\"/></a>"
      ]
    },
    {
      "cell_type": "markdown",
      "source": [
        "#Problem 2"
      ],
      "metadata": {
        "id": "2PZUOrq8Lx1A"
      }
    },
    {
      "cell_type": "markdown",
      "source": [
        "1. Write a Python to display your full name, student number, age, and course\n",
        "2. Create a class named Student with attributes: Name, Student_No, Age, School, and Course\n",
        "3. Create an object name Myself and assign an instance for each attribute.\n",
        "4. reate a method Self () using an instantiation of a class.\n",
        "5. Insert your GitHub link \"Prelim Exam\" from your repository named \"OOP 58001\" \n",
        "\n",
        "\n"
      ],
      "metadata": {
        "id": "qQ-rsfj1L3II"
      }
    },
    {
      "cell_type": "code",
      "source": [
        "class Student: #Creating a class name refering to Name, student number, age, school, and course\n",
        "  def __init__(self,Name, Number,Age,School,Course):\n",
        "    self.Name = Name\n",
        "    self.Number = Number\n",
        "    self.Age = Age\n",
        "    self.School = School\n",
        "    self.Course = Course\n",
        "  \n",
        "  def self (self):#Creating an object name Myself and assign an instance for each attribute.\n",
        "    print(\" Greetings! My name is \",self.Name,\"and I am\",self.Age,\"years old\",\",\", \"my student number is\",self.Number, \" and I am studying at\", self.School, \"taking\", self.Course)\n",
        "\n",
        "Myself = Student(\"Arsolon, Raymond Francis S.\", 202112095, 19, \"Adamson University\", \"Computer Engineering\") #using an instantiation of a class by creating a a method Self () \n",
        "Myself.self() \n"
      ],
      "metadata": {
        "colab": {
          "base_uri": "https://localhost:8080/"
        },
        "id": "vLUxXCq1MFbD",
        "outputId": "f31ffebf-c7c4-4443-c4ca-c1545a86387a"
      },
      "execution_count": 22,
      "outputs": [
        {
          "output_type": "stream",
          "name": "stdout",
          "text": [
            " Greetings! My name is  Arsolon, Raymond Francis S. and I am 19 years old , my student number is 202112095  and I am studying at Adamson University taking Computer Engineering\n"
          ]
        }
      ]
    }
  ]
}