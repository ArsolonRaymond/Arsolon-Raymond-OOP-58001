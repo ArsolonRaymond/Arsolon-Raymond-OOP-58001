{
  "nbformat": 4,
  "nbformat_minor": 0,
  "metadata": {
    "colab": {
      "name": "Fundamentals_Of_Python.ipynb",
      "provenance": [],
      "authorship_tag": "ABX9TyOtBViwn+Iko3KGmV4kx6W/",
      "include_colab_link": true
    },
    "kernelspec": {
      "name": "python3",
      "display_name": "Python 3"
    },
    "language_info": {
      "name": "python"
    }
  },
  "cells": [
    {
      "cell_type": "markdown",
      "metadata": {
        "id": "view-in-github",
        "colab_type": "text"
      },
      "source": [
        "<a href=\"https://colab.research.google.com/github/ArsolonRaymond/Arsolon-Raymond-OOP-58001/blob/main/Fundamentals_Of_Python.ipynb\" target=\"_parent\"><img src=\"https://colab.research.google.com/assets/colab-badge.svg\" alt=\"Open In Colab\"/></a>"
      ]
    },
    {
      "cell_type": "markdown",
      "source": [
        "# Fundamentals Of Python"
      ],
      "metadata": {
        "id": "-ymkXob6QyXu"
      }
    },
    {
      "cell_type": "markdown",
      "source": [
        "Python Variables\n"
      ],
      "metadata": {
        "id": "NkTC9DqCRYIL"
      }
    },
    {
      "cell_type": "code",
      "source": [
        "x = float (1)\n",
        "a, b = 0, -1\n",
        "a, b, c = \"Katrina\", \"Rue\", \"Nate\"\n",
        "\n",
        "print('This a sample')\n",
        "print(a)\n",
        "print(c)"
      ],
      "metadata": {
        "colab": {
          "base_uri": "https://localhost:8080/"
        },
        "id": "doHRC22TRcxF",
        "outputId": "6aeee46f-330b-4350-9ec9-20b4d8082365"
      },
      "execution_count": null,
      "outputs": [
        {
          "output_type": "stream",
          "name": "stdout",
          "text": [
            "This a sample\n",
            "Katrina\n",
            "Nate\n"
          ]
        }
      ]
    },
    {
      "cell_type": "markdown",
      "source": [
        "Casting"
      ],
      "metadata": {
        "id": "hpDVkNmURsLM"
      }
    },
    {
      "cell_type": "code",
      "source": [
        "print(x)"
      ],
      "metadata": {
        "colab": {
          "base_uri": "https://localhost:8080/"
        },
        "id": "j8bL8A8zRuAz",
        "outputId": "35dfad52-7962-487e-e83e-7e95c9dfbc0f"
      },
      "execution_count": null,
      "outputs": [
        {
          "output_type": "stream",
          "name": "stdout",
          "text": [
            "1.0\n"
          ]
        }
      ]
    },
    {
      "cell_type": "markdown",
      "source": [
        "Type()Function"
      ],
      "metadata": {
        "id": "wF9MO5RvR3ba"
      }
    },
    {
      "cell_type": "code",
      "source": [
        "y = \"Romblon\"\n",
        "\n",
        "print(type(y))\n",
        "print(type(x))"
      ],
      "metadata": {
        "colab": {
          "base_uri": "https://localhost:8080/"
        },
        "id": "XqumJYcmR7ul",
        "outputId": "9c11e1ab-909e-4005-cd57-8c80fc64be2a"
      },
      "execution_count": null,
      "outputs": [
        {
          "output_type": "stream",
          "name": "stdout",
          "text": [
            "<class 'str'>\n",
            "<class 'float'>\n"
          ]
        }
      ]
    },
    {
      "cell_type": "markdown",
      "source": [
        "Double quotes and Single quotes\n",
        "\n",
        "> Indented block\n",
        "\n"
      ],
      "metadata": {
        "id": "MFTNMBnnSLrs"
      }
    },
    {
      "cell_type": "code",
      "source": [
        "#h = \"Baby, Goodnight\"\n",
        "h = 'Baby, Goodnight'\n",
        "v = 1\n",
        "V = 3\n",
        "\n",
        "print(h)\n",
        "print(v)\n",
        "print(v+1)"
      ],
      "metadata": {
        "colab": {
          "base_uri": "https://localhost:8080/"
        },
        "id": "7caX2XwfSOcS",
        "outputId": "682ebcab-988f-49e4-e13c-770eb32897f9"
      },
      "execution_count": null,
      "outputs": [
        {
          "output_type": "stream",
          "name": "stdout",
          "text": [
            "Baby, Goodnight\n",
            "1\n",
            "2\n"
          ]
        }
      ]
    },
    {
      "cell_type": "markdown",
      "source": [
        "Multiple Variables"
      ],
      "metadata": {
        "id": "qQaWTNgkSnWM"
      }
    },
    {
      "cell_type": "code",
      "source": [
        "x, y, z = \"I\", \"Miss\", 'You'\n",
        "\n",
        "print(x)\n",
        "print(y)\n",
        "print(z)\n",
        "print(x, y, z)"
      ],
      "metadata": {
        "colab": {
          "base_uri": "https://localhost:8080/"
        },
        "id": "YQ7YMXI8Spwa",
        "outputId": "af487186-a089-4b48-cd31-20e204f83856"
      },
      "execution_count": null,
      "outputs": [
        {
          "output_type": "stream",
          "name": "stdout",
          "text": [
            "I\n",
            "Miss\n",
            "You\n",
            "I Miss You\n"
          ]
        }
      ]
    },
    {
      "cell_type": "markdown",
      "source": [
        "One Value to Multiple Variables"
      ],
      "metadata": {
        "id": "I63BWyPuSxFh"
      }
    },
    {
      "cell_type": "code",
      "source": [
        "x = y = z = \"Hello\"\n",
        "print(x, y, z)\n",
        "print(x)\n",
        "print(y)\n",
        "print(z)"
      ],
      "metadata": {
        "colab": {
          "base_uri": "https://localhost:8080/"
        },
        "id": "x0yMysZWSzQJ",
        "outputId": "ead0e32c-dca0-4139-8024-69f3e511b8dd"
      },
      "execution_count": null,
      "outputs": [
        {
          "output_type": "stream",
          "name": "stdout",
          "text": [
            "Hello Hello Hello\n",
            "Hello\n",
            "Hello\n",
            "Hello\n"
          ]
        }
      ]
    },
    {
      "cell_type": "markdown",
      "source": [
        "Output Variables\n",
        "\n"
      ],
      "metadata": {
        "id": "3HuepvfTS4HV"
      }
    },
    {
      "cell_type": "code",
      "source": [
        "x = \"Python\"\n",
        "y = \"I love\"\n",
        "\n",
        "print(\"I love \" + x)\n",
        "print(y + \" \" + x)"
      ],
      "metadata": {
        "colab": {
          "base_uri": "https://localhost:8080/"
        },
        "id": "v2uR6M_cS6OU",
        "outputId": "8a68a131-7702-483e-f01d-eb2bf3e4deca"
      },
      "execution_count": null,
      "outputs": [
        {
          "output_type": "stream",
          "name": "stdout",
          "text": [
            "I love Python\n",
            "I love Python\n"
          ]
        }
      ]
    },
    {
      "cell_type": "markdown",
      "source": [
        "\n",
        "\n",
        "```\n",
        "# This is formatted as code\n",
        "```\n",
        "\n",
        "Arithmetic Operations"
      ],
      "metadata": {
        "id": "LBmRyep-S-uM"
      }
    },
    {
      "cell_type": "code",
      "source": [
        "m = 5\n",
        "o = 2\n",
        "n = 7\n",
        "\n",
        "print(m+n)\n",
        "print(m-n)\n",
        "print(o*n)\n",
        "print(int(m/o))\n",
        "print(5/m)\n",
        "print(5%m)\n",
        "print(5//m)\n",
        "print(5**2)"
      ],
      "metadata": {
        "colab": {
          "base_uri": "https://localhost:8080/"
        },
        "id": "bNfvT3ztTAev",
        "outputId": "051c35f4-dfc3-4b0a-d4fc-8f63248f960b"
      },
      "execution_count": null,
      "outputs": [
        {
          "output_type": "stream",
          "name": "stdout",
          "text": [
            "12\n",
            "-2\n",
            "14\n",
            "2\n",
            "1.0\n",
            "0\n",
            "1\n",
            "25\n"
          ]
        }
      ]
    },
    {
      "cell_type": "markdown",
      "source": [
        "Assignment Operators"
      ],
      "metadata": {
        "id": "7Z8im2NdTYEt"
      }
    },
    {
      "cell_type": "code",
      "source": [
        "k = 2\n",
        "l=3\n",
        "k+=3 #same as k=k+3\n",
        "\n",
        "print(k)\n",
        "\n",
        "print(l>>1)"
      ],
      "metadata": {
        "colab": {
          "base_uri": "https://localhost:8080/"
        },
        "id": "O7IesiEJTYmh",
        "outputId": "91f994af-0185-4d76-b13b-5950719b4afb"
      },
      "execution_count": null,
      "outputs": [
        {
          "output_type": "stream",
          "name": "stdout",
          "text": [
            "5\n",
            "1\n"
          ]
        }
      ]
    },
    {
      "cell_type": "markdown",
      "source": [
        "Boolean Operators"
      ],
      "metadata": {
        "id": "Av1U41iYUpvL"
      }
    },
    {
      "cell_type": "code",
      "source": [
        "k=2\n",
        "l=3\n",
        "print(k>>2)#shift right twice \n",
        "print(k<<2)#shift left twice"
      ],
      "metadata": {
        "colab": {
          "base_uri": "https://localhost:8080/"
        },
        "id": "Fp9MoD6gUsXt",
        "outputId": "7ebe4d90-853e-4542-bc88-d29f4bbf93e8"
      },
      "execution_count": null,
      "outputs": [
        {
          "output_type": "stream",
          "name": "stdout",
          "text": [
            "0\n",
            "8\n"
          ]
        }
      ]
    },
    {
      "cell_type": "markdown",
      "source": [
        "Relational Operators"
      ],
      "metadata": {
        "id": "3HBxWhvaUHUL"
      }
    },
    {
      "cell_type": "code",
      "source": [
        "t=1\n",
        "v=2\n",
        "\n",
        "print(t>v)\n",
        "print(v==t)"
      ],
      "metadata": {
        "colab": {
          "base_uri": "https://localhost:8080/"
        },
        "id": "2-bDESXvUJ1D",
        "outputId": "5eff8dd3-edba-48f2-a357-c6076d24e503"
      },
      "execution_count": null,
      "outputs": [
        {
          "output_type": "stream",
          "name": "stdout",
          "text": [
            "False\n",
            "False\n"
          ]
        }
      ]
    },
    {
      "cell_type": "markdown",
      "source": [
        "Logical Operators\n",
        "\n"
      ],
      "metadata": {
        "id": "V6ysmcwFUPUE"
      }
    },
    {
      "cell_type": "code",
      "source": [
        "print(v<t and t==t)\n",
        "print(v<t or t==v)\n",
        "print(not (v<t or t==v))"
      ],
      "metadata": {
        "colab": {
          "base_uri": "https://localhost:8080/"
        },
        "id": "dTxC3i-uURKQ",
        "outputId": "10eaacef-04ce-4e82-9214-9583d0f5b151"
      },
      "execution_count": null,
      "outputs": [
        {
          "output_type": "stream",
          "name": "stdout",
          "text": [
            "False\n",
            "False\n",
            "True\n"
          ]
        }
      ]
    },
    {
      "cell_type": "markdown",
      "source": [
        "Identity Operators"
      ],
      "metadata": {
        "id": "dfJMz4i5UZ5a"
      }
    },
    {
      "cell_type": "code",
      "source": [
        "Identity Operators"
      ],
      "metadata": {
        "colab": {
          "base_uri": "https://localhost:8080/"
        },
        "id": "0rpfNpfpUbfO",
        "outputId": "fce9f0f4-6e4b-44e4-8804-b0ed5da9d262"
      },
      "execution_count": null,
      "outputs": [
        {
          "output_type": "stream",
          "name": "stdout",
          "text": [
            "False\n",
            "True\n"
          ]
        }
      ]
    }
  ]
}